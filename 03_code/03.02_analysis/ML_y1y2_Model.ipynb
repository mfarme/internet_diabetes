{
 "cells": [
  {
   "cell_type": "markdown",
   "id": "9aacf966",
   "metadata": {},
   "source": [
    "# Machine Learning Model # 2 \n",
    "In this notebook, we assess the capability of predicting 2022 data using 2021 data. This model represents a more realistic scenario where we want to predict future data based on past data."
   ]
  }
 ],
 "metadata": {
  "language_info": {
   "name": "python"
  }
 },
 "nbformat": 4,
 "nbformat_minor": 5
}
