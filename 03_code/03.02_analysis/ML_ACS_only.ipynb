{
 "cells": [
  {
   "cell_type": "markdown",
   "id": "8f2de583",
   "metadata": {},
   "source": [
    "# Machine Learning Model #3\n",
    "In this notebook, we are assessing the capabilities of machine learning to predict diabetes prevalence using only ACS data, simulating a scenario where we do not have access to the diabetes prevalence data from the CDC's BRFSS. We will use only ACS data to train our model and then evaluate its performance on the test set. The goal is to see if we can achieve a reasonable level of accuracy in predicting diabetes prevalence using only ACS data.\n"
   ]
  },
  {
   "cell_type": "markdown",
   "id": "5c0bb870",
   "metadata": {},
   "source": []
  }
 ],
 "metadata": {
  "language_info": {
   "name": "python"
  }
 },
 "nbformat": 4,
 "nbformat_minor": 5
}
